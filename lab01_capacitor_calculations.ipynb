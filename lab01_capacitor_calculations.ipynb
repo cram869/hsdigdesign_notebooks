{
 "cells": [
  {
   "cell_type": "code",
   "execution_count": 1,
   "metadata": {},
   "outputs": [],
   "source": [
    "%matplotlib widget\n",
    "\n",
    "# This import registers the 3D projection, but is otherwise unused.\n",
    "from mpl_toolkits.mplot3d import Axes3D  # noqa: F401 unused import\n",
    "import matplotlib.pyplot as plt\n",
    "import numpy as np\n",
    "from matplotlib import rc\n",
    "#rc('font',**{'family':'sans-serif','sans-serif':['Helvetica']})\n",
    "## for Palatino and other serif fonts use:\n",
    "#rc('font',**{'family':'serif','serif':['Palatino']})\n",
    "rc('text', usetex=True)"
   ]
  },
  {
   "cell_type": "code",
   "execution_count": 2,
   "metadata": {},
   "outputs": [],
   "source": [
    "L = 200\n",
    "W = 200\n",
    "epsr = 5.18\n",
    "eps0 = 8.854e-15 # F/mm\n",
    "\n",
    "A = L*W\n",
    "\n",
    "h_v = np.hstack([np.arange(4,101,2), np.array([120,])])"
   ]
  },
  {
   "cell_type": "code",
   "execution_count": 3,
   "metadata": {},
   "outputs": [],
   "source": [
    "C_ideal = epsr*eps0*A/h_v\n"
   ]
  },
  {
   "cell_type": "code",
   "execution_count": 4,
   "metadata": {},
   "outputs": [],
   "source": [
    "import csv\n",
    "import pandas as pd\n",
    "df = pd.read_csv(open('./cst/cap_version3_hsweep_1.csv', 'r'))"
   ]
  },
  {
   "cell_type": "code",
   "execution_count": 5,
   "metadata": {},
   "outputs": [],
   "source": [
    "h_d = df['h_d']\n",
    "C_cst = df['C_cst']"
   ]
  },
  {
   "cell_type": "code",
   "execution_count": 6,
   "metadata": {},
   "outputs": [
    {
     "data": {
      "application/vnd.jupyter.widget-view+json": {
       "model_id": "9ce3ec86a26c41aa9af129929fa387d7",
       "version_major": 2,
       "version_minor": 0
      },
      "text/plain": [
       "Canvas(toolbar=Toolbar(toolitems=[('Home', 'Reset original view', 'home', 'home'), ('Back', 'Back to previous …"
      ]
     },
     "metadata": {},
     "output_type": "display_data"
    }
   ],
   "source": [
    "fig = plt.figure()\n",
    "ax = fig.add_subplot(1,1,1)\n",
    "\n",
    "ax.loglog(h_v, C_ideal*1e12, label=\"Ideal\")\n",
    "ax.loglog(h_d, C_cst*1e12, label='CST')\n",
    "#ax.plot([100,], [23.11473,], label='CST', marker='x')\n",
    "ax.grid(True)\n",
    "ax.set_xlabel('Dielectric Height, $h$ (mm)')\n",
    "ax.set_ylabel('Capacitance (pF)')\n",
    "ax.set_xlim(4,120)\n",
    "leg1 = ax.legend(loc='best')\n",
    "\n",
    "plt.savefig('./figs/cap_v3_hsweep_loglog.pdf', dpi=200)"
   ]
  },
  {
   "cell_type": "code",
   "execution_count": 7,
   "metadata": {},
   "outputs": [
    {
     "name": "stdout",
     "output_type": "stream",
     "text": [
      "[0.01806928 0.02340775 0.02871753 0.03505173 0.03925197 0.04447708\n",
      " 0.05381243 0.05793293 0.06203602 0.06734418 0.07140764 0.07686628\n",
      " 0.08169252 0.08529634 0.0910741  0.09602701 0.09957723 0.10448617\n",
      " 0.10800493 0.11277342 0.11751794 0.12281507 0.12693575 0.13018118\n",
      " 0.13531263 0.1377733  0.14286322 0.14839271 0.15184359 0.15611598\n",
      " 0.15852209 0.16515249 0.16716893 0.17073266 0.17609768 0.18016854\n",
      " 0.18296236 0.18798756 0.19191648 0.19476319 0.20025326 0.20483216\n",
      " 0.20851352 0.21130825 0.21322457 0.21834359 0.22274493 0.226439\n",
      " 0.22943448 0.26706562]\n"
     ]
    }
   ],
   "source": [
    "C_cst_a = np.array(C_cst.to_list())\n",
    "percent_diff = 2.0*np.abs(C_ideal - C_cst_a)/(C_ideal + C_cst_a)\n",
    "print(percent_diff)"
   ]
  },
  {
   "cell_type": "code",
   "execution_count": 8,
   "metadata": {},
   "outputs": [
    {
     "data": {
      "application/vnd.jupyter.widget-view+json": {
       "model_id": "6da85f470b0e47b3914d2bca27893ff8",
       "version_major": 2,
       "version_minor": 0
      },
      "text/plain": [
       "Canvas(toolbar=Toolbar(toolitems=[('Home', 'Reset original view', 'home', 'home'), ('Back', 'Back to previous …"
      ]
     },
     "metadata": {},
     "output_type": "display_data"
    }
   ],
   "source": [
    "fig = plt.figure()\n",
    "ax = fig.add_subplot(1,1,1)\n",
    "ax.semilogx(h_v, percent_diff*100, color='k')\n",
    "ax.grid(True)\n",
    "ax.set_xlabel('Dielectric Height, $h$ (mm)')\n",
    "ax.set_ylabel('Percent Difference (\\%)')\n",
    "ax.set_xlim(4,120)\n",
    "plt.savefig('./figs/cap_v3_hsweep_percentdiff_semilogx.pdf', dpi=200)"
   ]
  }
 ],
 "metadata": {
  "kernelspec": {
   "display_name": "Python 3",
   "language": "python",
   "name": "python3"
  },
  "language_info": {
   "codemirror_mode": {
    "name": "ipython",
    "version": 3
   },
   "file_extension": ".py",
   "mimetype": "text/x-python",
   "name": "python",
   "nbconvert_exporter": "python",
   "pygments_lexer": "ipython3",
   "version": "3.8.10"
  }
 },
 "nbformat": 4,
 "nbformat_minor": 4
}
