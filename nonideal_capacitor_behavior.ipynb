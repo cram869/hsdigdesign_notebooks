{
 "cells": [
  {
   "cell_type": "markdown",
   "metadata": {},
   "source": [
    "# Nonideal Capacitor Behavior\n",
    "\n",
    "Real components require physical connections to other circuit components, and these connections result in parasitic behaviors.  Parasitic behaviors are any circuit behaviors that are not part of the intended schematic.  In this notebook, we study the effects of parasitic inductance on capacitors.  The connection into the rest of the circuit implies a current loop, and that current loop has an inductance associated with it.  This parasitic inductance is in series with the intended capacitance.  The parasitic inductance limits the operational frequency range of the capacitor."
   ]
  },
  {
   "cell_type": "code",
   "execution_count": 7,
   "metadata": {
    "jupyter": {
     "source_hidden": true
    }
   },
   "outputs": [],
   "source": [
    "%matplotlib widget\n",
    "import matplotlib.pyplot as plt\n",
    "import numpy as np\n",
    "pi = np.pi\n",
    "sqrt = np.sqrt\n",
    "\n",
    "from numpy.linalg import solve as linsolve\n",
    "\n",
    "from matplotlib import rc\n",
    "#rc('font',**{'family':'sans-serif','sans-serif':['Helvetica']})\n",
    "## for Palatino and other serif fonts use:\n",
    "#rc('font',**{'family':'serif','serif':['Palatino']})\n",
    "rc('text', usetex=True)\n",
    "\n",
    "# from ipywidgets import jslink, FloatSlider, IntSlider, VBox, RadioButtons, Checkbox, interactive, Text\n",
    "# from IPython.display import display, HTML\n",
    "# style = {'description_width': 'initial'}\n",
    "\n",
    "from IPython.display import Image\n",
    "\n",
    "def legend_alpha(leg, alpha=0.25):\n",
    "    leg.get_frame().set_alpha(alpha)\n",
    "    return leg\n",
    "\n",
    "def legend_linewidth(leg, width=2.0):\n",
    "    for ihandle in leg.legendHandles:\n",
    "        ihandle.set_linewidth(width)\n",
    "    return leg\n",
    "\n",
    "default_save_formats = ['png', 'pdf']\n",
    "def savefigure(fig, filename, path='figs', **kwargs):\n",
    "    from os.path import join as os_path_join\n",
    "    pathfilename = os_path_join(path, filename)\n",
    "    formats = kwargs.get('formats', default_save_formats)\n",
    "    transparent = kwargs.get('transparent', False)\n",
    "    for format_i in formats:\n",
    "        fig.savefig(pathfilename + '.' + format_i,\n",
    "                    transparent=transparent)\n",
    "\n",
    "def printp(X, L):\n",
    "    print(L, \" = \", np.abs(X), \" angle \", np.angle(X)*180/pi, \" deg\")\n",
    "\n",
    "def printr(X, L):\n",
    "    print(L, \" = \", X)\n",
    "    \n",
    "def printph(X, L):\n",
    "    printp(X, L)\n",
    "    printr(X, L)\n",
    "    \n",
    "def printsc(X, L):\n",
    "    print(L, \" = \", X)\n",
    "    \n",
    "def ph(angle_deg):\n",
    "    angle_rad = pi*angle_deg/180.0;\n",
    "    return (np.cos(angle_rad) + 1j*np.sin(angle_rad))\n",
    "\n",
    "def flatten(L):\n",
    "    if hasattr(L, '__iter__'):\n",
    "        if len(L) == 0:\n",
    "            return []\n",
    "        first, rest = L[0], L[1:]\n",
    "        return flatten(first) + flatten(rest)\n",
    "    else:\n",
    "        return [L, ]\n",
    "    \n",
    "def inv_eq(*args):\n",
    "    sum_of_inverses = 0\n",
    "    for Z_ in args:\n",
    "        sum_of_inverses += 1./Z_ \n",
    "    Xeq = 1./sum_of_inverses\n",
    "    return Xeq\n",
    "\n",
    "def parallelL(*args):\n",
    "    return inv_eq(*args)\n",
    "\n",
    "def seriesC(*args):\n",
    "    return inv_eq(*args)\n",
    "\n",
    "def parallelZ(*args):\n",
    "    return inv_eq(*args)\n",
    "\n",
    "def ph2vec(phasor_):\n",
    "    return np.array([np.real(phasor_), np.imag(phasor_)])\n",
    "\n",
    "def norm(v_):\n",
    "    return np.sqrt(np.inner(v_, v_))\n",
    "\n",
    "def db(X):\n",
    "    return 20.0*np.log10(np.abs(X))\n",
    "\n",
    "def phase_deg(X):\n",
    "    return 180*np.unwrap(np.angle(X))/np.pi\n"
   ]
  },
  {
   "cell_type": "code",
   "execution_count": 8,
   "metadata": {
    "jupyter": {
     "source_hidden": true
    }
   },
   "outputs": [],
   "source": [
    "def zerocross(t, v, vref, **kwargs):\n",
    "    \"\"\"\n",
    "    Get the indices/time where the voltage crosses the reference\n",
    "    voltage.\n",
    "\n",
    "    **kwargs:\n",
    "\n",
    "    slope - which direction to detect the crossings. Valid values are\n",
    "    positive, negative, both, rise, fall (default: both)\n",
    "\n",
    "    gettrace - return a trace containing a 0 for samples with no\n",
    "    transition, 1 for samples with a positive slope transition, and -1\n",
    "    for samples with a negative slope transition.  If the slope\n",
    "    detection is set to only catch positive or negative, the other\n",
    "    will not be present in the trace either. (default: False)\n",
    "\n",
    "    mode - determines how the actual crossing time is reported.  If\n",
    "    mode == 0 (default): calculates crossing by a linear interpolation\n",
    "    of the 2D coordinates.  If mode == 1: returns the midpoint between\n",
    "    the time samples as the crossing.  Otherwise, return the time\n",
    "    sample immediately before the crossing.\n",
    "    \"\"\"\n",
    "\n",
    "    ###############################################################\n",
    "    # Keep this for debugging code using the older option names.\n",
    "    for argkey in ['CrossingType', 'GetTrace', 'Mode']:\n",
    "        if argkey in kwargs:\n",
    "            print(\"%s has been removed as a kwarg.  Check for the updated argument name in tracemath.py.\")\n",
    "            return None\n",
    "    ###############################################################\n",
    "\n",
    "    ###############################################################\n",
    "    # The following sets default values and replaces any that are\n",
    "    # specified when the function is called.\n",
    "    settings = dict(slope='both', gettrace=False, getIndices=False, mode=0)\n",
    "    for key, val in kwargs.items():\n",
    "        settings[key] = val\n",
    "    ###############################################################\n",
    "\n",
    "    N = len(t)\n",
    "    zc = np.zeros(N)  # zero crossings\n",
    "    for ii in range(0, N-1):\n",
    "        if (v[ii+1] >= vref) and (v[ii] < vref):  # positive transition\n",
    "            zc[ii] = 1\n",
    "        if (v[ii+1] < vref) and (v[ii] >= vref):  # negative transition\n",
    "            zc[ii] = -1\n",
    "\n",
    "    if settings['gettrace']:\n",
    "        return zc\n",
    "\n",
    "    # Otherwise get the crossing times.\n",
    "    # Rise and fall are the same as positive and negative, respectively.\n",
    "    ct = settings['slope'].lower()\n",
    "    bZCArray = {\n",
    "        'both': lambda XA: XA != 0,\n",
    "        'positive': lambda XA: XA > 0,\n",
    "        'rise': lambda XA: XA > 0,\n",
    "        'negative': lambda XA: XA < 0,\n",
    "        'fall': lambda XA: XA < 0 }[ct](zc)\n",
    "\n",
    "    if settings['getIndices']:\n",
    "        return np.where(bZCArray)[0]\n",
    "\n",
    "\n",
    "    # I have a couple of calculation options, but the linear interpolation is\n",
    "    # the most accurate that I have built in so far.  A quadratic search is\n",
    "    # probably overkill.\n",
    "    ZCTime = np.array([])\n",
    "    Mode = settings['mode']\n",
    "    if Mode == 0:\n",
    "        ZCTimeList = []\n",
    "        for ii in range(0, N-1):\n",
    "            if bZCArray[ii]:\n",
    "                # Calculate the linear interpolated crossing time.\n",
    "                lam0 = (vref-v[ii+1])/(v[ii] - v[ii+1])\n",
    "                tZeroCrossing = lam0 * t[ii] + (1-lam0) * t[ii+1]\n",
    "                ZCTimeList.append(tZeroCrossing)\n",
    "        ZCTime = np.array(ZCTimeList)\n",
    "    elif Mode == 1:\n",
    "        ZCTime = np.array([0.5*(t[ii]+t[ii+1]) for ii in range(0,N-1) if bZCArray[ii]])\n",
    "    else:\n",
    "        ZCTime = np.array([t[ii] for ii in range(0,N-1) if bZCArray[ii]])\n",
    "\n",
    "    # Build a crossing file.\n",
    "    if 'filename' in kwargs:\n",
    "        fmt = kwargs.get('format', '%.12g')\n",
    "        filename = kwargs['filename']\n",
    "        s = '\\n'.join([fmt % z for z in ZCTime]) + '\\n'\n",
    "        with open(filename, 'w') as f:\n",
    "            f.write(s)\n",
    "    return ZCTime\n",
    "\n",
    "def nearest_index(a, v):                                               \n",
    "    \"\"\"                                                                \n",
    "    Act similar to numpy.searchsorted, but find the nearest point      \n",
    "    rather than using a before or after approach.                      \n",
    "                                                                       \n",
    "    a - is the full vector                                             \n",
    "    v - is the value to search on.                                     \n",
    "    \"\"\"                                                                \n",
    "    if type(v) in (list, tuple, np.ndarray):                           \n",
    "        inearest = []                                                  \n",
    "        for v_ in v:                                                   \n",
    "            inearest.append(nearest_index(a, v_))                      \n",
    "        return inearest                                                \n",
    "    else:                                                              \n",
    "        # The real calculation.                                        \n",
    "        return np.argmin(np.abs(np.array(a)-v))                        \n",
    "                                                                       \n",
    "                                                                       \n",
    "def marker_fcn(a, v, y):                                               \n",
    "    \"\"\"                                                                \n",
    "    Use nearest_index to determine the closest indices.  Then, output  \n",
    "    the y values associated with these indices like a marker on an     \n",
    "    oscilloscope or spectrum analyzer.                                 \n",
    "    \"\"\"                                                                \n",
    "    il = nearest_index(a, v)                                           \n",
    "    return np.array(y)[il]                                             "
   ]
  },
  {
   "cell_type": "code",
   "execution_count": 9,
   "metadata": {},
   "outputs": [],
   "source": [
    "Rp = 0.1\n",
    "Lp = 15e-9\n",
    "C = 350e-9\n",
    "\n",
    "f = np.logspace(1,10,501)\n",
    "w = 2*np.pi*f\n",
    "jw = 1j*2*np.pi*f\n",
    "\n",
    "Zc = Rp + jw*Lp + 1./(jw*C)\n",
    "Zs = 50\n",
    "Zl = 50\n",
    "\n",
    "Zload_eq = parallelZ(Zl, Zc)\n",
    "\n",
    "# G = Vo / Vs\n",
    "G = Zload_eq / (Zload_eq + Zs)"
   ]
  },
  {
   "cell_type": "code",
   "execution_count": 10,
   "metadata": {},
   "outputs": [],
   "source": [
    "def Cest(fmarker_, G_ = G, f_ = f):\n",
    "    Gabs = np.abs(G_)\n",
    "    #print(\"frequency of C: \", f_[nearest_index(f_, fmarker_)])\n",
    "    Gabs_ = marker_fcn(f_, fmarker_, Gabs)\n",
    "    Cest = 1./(50*np.pi*fmarker_) * np.sqrt(1./(4*(Gabs_**2)) - 1)\n",
    "    return Cest\n",
    "\n",
    "def Cest_simple(fmarker_, G_ = G, f_ = f):\n",
    "    Gabs = np.abs(G_)\n",
    "    #print(\"frequency of C: \", f_[nearest_index(f_, fmarker_)])\n",
    "    Gabs_ = marker_fcn(f_, fmarker_, Gabs)\n",
    "    Cest = 1./(2*np.pi*fmarker_*Zs*Gabs_)\n",
    "    return Cest\n",
    "    \n",
    "def Lest(fmarker_, G_ = G, f_ = f):\n",
    "    Gabs = np.abs(G_)\n",
    "    #print(\"frequency of L: \", f_[nearest_index(f_, fmarker_)])\n",
    "    Gabs_ = marker_fcn(f_, fmarker_, Gabs)\n",
    "    Lest = 25./(2*np.pi*fmarker_*np.sqrt((1./(2*Gabs_))**2 - 1))\n",
    "    return Lest\n",
    "\n",
    "def Lest_simple(fmarker_, G_ = G, f_ = f):\n",
    "    Gabs = np.abs(G_)\n",
    "    #print(\"frequency of L: \", f_[nearest_index(f_, fmarker_)])\n",
    "    Gabs_ = marker_fcn(f_, fmarker_, Gabs)\n",
    "    Lest = Gabs_*Zs/(2*np.pi*fmarker_)\n",
    "    return Lest\n"
   ]
  },
  {
   "cell_type": "code",
   "execution_count": 11,
   "metadata": {},
   "outputs": [
    {
     "data": {
      "application/vnd.jupyter.widget-view+json": {
       "model_id": "643b6e5cfe4a48cebffb74e7263b4aa7",
       "version_major": 2,
       "version_minor": 0
      },
      "text/plain": [
       "Canvas(toolbar=Toolbar(toolitems=[('Home', 'Reset original view', 'home', 'home'), ('Back', 'Back to previous …"
      ]
     },
     "metadata": {},
     "output_type": "display_data"
    }
   ],
   "source": [
    "fig = plt.figure()\n",
    "ax = fig.add_subplot(2,1,1)\n",
    "ax2 = fig.add_subplot(2,1,2, sharex=ax)\n",
    "\n",
    "ax.loglog(f, np.abs(Zc), label='Nonideal Response')\n",
    "ax.grid(True)\n",
    "ax.set_title('Nonideal Capacitor Impedance')\n",
    "ax.set_ylabel('Magnitude (Ohms)')\n",
    "\n",
    "ax.set_ylim(1e-1/2,1e5)\n",
    "ax2.semilogx(f, phase_deg(Zc))\n",
    "ax2.grid(True)\n",
    "ax2.set_ylabel('Phase (deg)')\n",
    "ax2.set_xlabel('Frequency (Hz)')\n",
    "\n",
    "ax2.set_yticks([-90, -45, 0, 45, 90])\n",
    "\n",
    "savefigure(fig, 'nonideal_cap_impedance', path='.')"
   ]
  },
  {
   "cell_type": "code",
   "execution_count": 12,
   "metadata": {},
   "outputs": [
    {
     "data": {
      "application/vnd.jupyter.widget-view+json": {
       "model_id": "922528ce896340d585c1fd5114ff7797",
       "version_major": 2,
       "version_minor": 0
      },
      "text/plain": [
       "Canvas(toolbar=Toolbar(toolitems=[('Home', 'Reset original view', 'home', 'home'), ('Back', 'Back to previous …"
      ]
     },
     "metadata": {},
     "output_type": "display_data"
    }
   ],
   "source": [
    "fig = plt.figure()\n",
    "ax = fig.add_subplot(1,1,1)\n",
    "\n",
    "ax.loglog(f, np.abs(Zc), label='Nonideal Response')\n",
    "ax.grid(True)\n",
    "ax.set_title('Nonideal Capacitor Impedance')\n",
    "ax.set_ylabel('Magnitude (Ohms)')\n",
    "ax.set_xlabel('Frequency (Hz)')\n",
    "ax.set_ylim(1e-1/2,1e5)\n",
    "ax.loglog(f, np.abs(jw*Lp), label='Parasitive Inductance', alpha=0.5)\n",
    "ax.loglog(f, np.abs(1./(jw*C)), label='Ideal Capacitance', alpha=0.5)\n",
    "ax.loglog(f, np.abs(Rp+jw*0), label='ESR', alpha=0.5)\n",
    "leg = ax.legend(loc='best')\n",
    "legend_alpha(leg, 0)\n",
    "legend_linewidth(leg, 1.5)\n",
    "savefigure(fig, 'nonideal_cap_impedance_full', path='.')"
   ]
  },
  {
   "cell_type": "code",
   "execution_count": 13,
   "metadata": {},
   "outputs": [
    {
     "data": {
      "application/vnd.jupyter.widget-view+json": {
       "model_id": "3ea53b003c3544a6b4afdb8020b24cf3",
       "version_major": 2,
       "version_minor": 0
      },
      "text/plain": [
       "Canvas(toolbar=Toolbar(toolitems=[('Home', 'Reset original view', 'home', 'home'), ('Back', 'Back to previous …"
      ]
     },
     "metadata": {},
     "output_type": "display_data"
    }
   ],
   "source": [
    "fig = plt.figure()\n",
    "ax = fig.add_subplot(2,1,1)\n",
    "ax2 = fig.add_subplot(2,1,2, sharex=ax)\n",
    "\n",
    "ax.semilogx(f, db(G))\n",
    "ax.grid(True)\n",
    "ax2.semilogx(f, phase_deg(G))\n",
    "ax2.grid(True)\n",
    "ax2.set_xlabel('Frequency (Hz)')\n",
    "ax.set_ylabel('Magnitude (dB)')\n",
    "ax2.set_ylabel('Phase (deg)')\n",
    "ax.set_title('Gain (Vo/Vs)')\n",
    "ax2.set_yticks([-90, -45, 0, 45, 90])\n",
    "\n",
    "savefigure(fig, 'nonideal_cap_gain_response', path='.')"
   ]
  },
  {
   "cell_type": "code",
   "execution_count": 14,
   "metadata": {},
   "outputs": [
    {
     "name": "stdout",
     "output_type": "stream",
     "text": [
      "3dB Points:  [1.80727595e+04 2.67077459e+08]\n"
     ]
    }
   ],
   "source": [
    "# Calculate particular frequencies\n",
    "G0 = db(G[0])\n",
    "G3db = G0 - 3\n",
    "\n",
    "f3db = zerocross(f, db(G), G3db)\n",
    "print(\"3dB Points: \", f3db)\n"
   ]
  },
  {
   "cell_type": "code",
   "execution_count": 15,
   "metadata": {},
   "outputs": [
    {
     "data": {
      "application/vnd.jupyter.widget-view+json": {
       "model_id": "c0a9b00d00cd46d09828d7277ea4bf45",
       "version_major": 2,
       "version_minor": 0
      },
      "text/plain": [
       "Canvas(toolbar=Toolbar(toolitems=[('Home', 'Reset original view', 'home', 'home'), ('Back', 'Back to previous …"
      ]
     },
     "metadata": {},
     "output_type": "display_data"
    }
   ],
   "source": [
    "fig = plt.figure()\n",
    "ax = fig.add_subplot(1,1,1)\n",
    "\n",
    "ax.semilogx(f, db(G))\n",
    "ax.grid(True)\n",
    "\n",
    "ax.set_xlabel('Frequency (Hz)')\n",
    "ax.set_ylabel('Magnitude (dB)')\n",
    "ax.set_title('Gain (Vo/Vs)')\n",
    "\n",
    "ax.axvline(f3db[0], linestyle='--')\n",
    "ax.axvline(f3db[1], linestyle='--')\n",
    "\n",
    "savefigure(fig, 'nonideal_cap_gain_response_markers', path='.')"
   ]
  },
  {
   "cell_type": "code",
   "execution_count": 16,
   "metadata": {},
   "outputs": [
    {
     "data": {
      "application/vnd.jupyter.widget-view+json": {
       "model_id": "de47acec06df47938409d1f61e48d7b3",
       "version_major": 2,
       "version_minor": 0
      },
      "text/plain": [
       "Canvas(toolbar=Toolbar(toolitems=[('Home', 'Reset original view', 'home', 'home'), ('Back', 'Back to previous …"
      ]
     },
     "metadata": {},
     "output_type": "display_data"
    }
   ],
   "source": [
    "fig = plt.figure()\n",
    "axc = fig.add_subplot(2,1,1)\n",
    "axl = fig.add_subplot(2,1,2, sharex=axc)\n",
    "\n",
    "Cev = Cest(f)\n",
    "Cesv = Cest_simple(f)\n",
    "Lev = Lest(f)\n",
    "Lesv = Lest_simple(f)\n",
    "\n",
    "axc.semilogx(f, Cev*1e9, label='Detailed Exp', linewidth=2)\n",
    "axc.semilogx(f, Cesv*1e9, label='Simplified Exp')\n",
    "axl.semilogx(f, Lev*1e9, label='Detailed Exp', linewidth=2)\n",
    "axl.semilogx(f, Lesv*1e9, label='Simplified Exp')\n",
    "\n",
    "axl.set_xlabel('Frequency (Hz)')\n",
    "axc.set_ylabel('Capacitance (nF)')\n",
    "axc.set_ylim(0.1*C*1e9, 3*C*1e9)\n",
    "axc.axhline(C*1e9, linestyle='--', color='k', alpha=0.5)\n",
    "axc.grid(True)\n",
    "axl.set_ylabel('Inductance (nF)')\n",
    "axl.set_ylim(0.1*Lp*1e9, 3*Lp*1e9)\n",
    "axl.grid(True)\n",
    "axl.axhline(Lp*1e9, linestyle='--', color='k', alpha=0.5)\n",
    "\n",
    "leg = axc.legend(loc='best')\n",
    "legend_alpha(leg, 0)\n",
    "legend_linewidth(leg, 1.5)\n",
    "\n",
    "savefigure(fig, 'c_and_lp_estimates', path='.')"
   ]
  }
 ],
 "metadata": {
  "kernelspec": {
   "display_name": "Python 3",
   "language": "python",
   "name": "python3"
  },
  "language_info": {
   "codemirror_mode": {
    "name": "ipython",
    "version": 3
   },
   "file_extension": ".py",
   "mimetype": "text/x-python",
   "name": "python",
   "nbconvert_exporter": "python",
   "pygments_lexer": "ipython3",
   "version": "3.8.10"
  }
 },
 "nbformat": 4,
 "nbformat_minor": 4
}
